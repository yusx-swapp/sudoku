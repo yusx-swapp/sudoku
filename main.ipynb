{
 "cells": [
  {
   "cell_type": "code",
   "execution_count": 1,
   "metadata": {},
   "outputs": [],
   "source": [
    "from src import sudoku"
   ]
  },
  {
   "cell_type": "code",
   "execution_count": 2,
   "metadata": {},
   "outputs": [
    {
     "name": "stdout",
     "output_type": "stream",
     "text": [
      "[Initial States]:\n",
      " [[7. 0. 0. 0. 0. 9. 0. 0. 6.]\n",
      " [0. 1. 0. 0. 0. 5. 3. 7. 0.]\n",
      " [0. 0. 4. 7. 6. 0. 0. 0. 0.]\n",
      " [0. 0. 6. 0. 0. 8. 0. 3. 0.]\n",
      " [0. 0. 2. 0. 4. 0. 6. 0. 0.]\n",
      " [0. 3. 0. 2. 0. 0. 1. 0. 0.]\n",
      " [0. 0. 0. 0. 8. 2. 7. 0. 0.]\n",
      " [0. 6. 7. 1. 0. 0. 0. 2. 0.]\n",
      " [3. 0. 0. 5. 0. 0. 0. 0. 8.]]\n",
      "[Current Game Board]:\n",
      " [[7. 5. 4. 1. 3. 9. 8. 2. 6.]\n",
      " [2. 1. 9. 4. 6. 5. 3. 7. 8.]\n",
      " [3. 8. 4. 7. 6. 9. 2. 5. 1.]\n",
      " [4. 7. 6. 2. 9. 8. 1. 3. 5.]\n",
      " [8. 3. 2. 5. 4. 7. 6. 1. 9.]\n",
      " [9. 3. 5. 2. 7. 6. 1. 8. 4.]\n",
      " [1. 9. 3. 6. 8. 2. 7. 5. 4.]\n",
      " [4. 6. 7. 1. 5. 3. 9. 2. 8.]\n",
      " [3. 4. 9. 5. 6. 1. 2. 7. 8.]]\n",
      "[Current Fitness Value]:\n",
      " 38\n",
      "[Number of Steps Used]:\n",
      " 0\n",
      "[Initial States]:\n",
      " [[7. 0. 0. 0. 0. 9. 0. 0. 6.]\n",
      " [0. 1. 0. 0. 0. 5. 3. 7. 0.]\n",
      " [0. 0. 4. 7. 6. 0. 0. 0. 0.]\n",
      " [0. 0. 6. 0. 0. 8. 0. 3. 0.]\n",
      " [0. 0. 2. 0. 4. 0. 6. 0. 0.]\n",
      " [0. 3. 0. 2. 0. 0. 1. 0. 0.]\n",
      " [0. 0. 0. 0. 8. 2. 7. 0. 0.]\n",
      " [0. 6. 7. 1. 0. 0. 0. 2. 0.]\n",
      " [3. 0. 0. 5. 0. 0. 0. 0. 8.]]\n",
      "[Current Game Board]:\n",
      " [[7. 2. 3. 8. 1. 9. 5. 4. 6.]\n",
      " [6. 1. 8. 4. 9. 5. 3. 7. 2.]\n",
      " [2. 5. 4. 7. 6. 3. 8. 9. 1.]\n",
      " [1. 7. 6. 9. 5. 8. 2. 3. 4.]\n",
      " [9. 8. 2. 3. 4. 1. 6. 5. 7.]\n",
      " [4. 3. 5. 2. 6. 7. 1. 8. 9.]\n",
      " [5. 4. 9. 6. 8. 2. 7. 1. 3.]\n",
      " [8. 6. 7. 1. 3. 9. 4. 2. 5.]\n",
      " [3. 2. 1. 5. 7. 4. 9. 6. 8.]]\n",
      "[Current Fitness Value]:\n",
      " 5\n",
      "[Number of Steps Used]:\n",
      " 10000\n",
      "[Initial States]:\n",
      " [[7. 0. 0. 0. 0. 9. 0. 0. 6.]\n",
      " [0. 1. 0. 0. 0. 5. 3. 7. 0.]\n",
      " [0. 0. 4. 7. 6. 0. 0. 0. 0.]\n",
      " [0. 0. 6. 0. 0. 8. 0. 3. 0.]\n",
      " [0. 0. 2. 0. 4. 0. 6. 0. 0.]\n",
      " [0. 3. 0. 2. 0. 0. 1. 0. 0.]\n",
      " [0. 0. 0. 0. 8. 2. 7. 0. 0.]\n",
      " [0. 6. 7. 1. 0. 0. 0. 2. 0.]\n",
      " [3. 0. 0. 5. 0. 0. 0. 0. 8.]]\n",
      "[Current Game Board]:\n",
      " [[7. 1. 3. 8. 2. 9. 5. 4. 6.]\n",
      " [6. 1. 8. 4. 9. 5. 3. 7. 2.]\n",
      " [2. 5. 4. 7. 6. 3. 8. 9. 1.]\n",
      " [1. 7. 6. 9. 5. 8. 2. 3. 4.]\n",
      " [9. 8. 2. 3. 4. 1. 6. 5. 7.]\n",
      " [4. 3. 5. 2. 7. 6. 1. 8. 9.]\n",
      " [5. 4. 9. 6. 8. 2. 7. 1. 3.]\n",
      " [8. 6. 7. 1. 3. 9. 4. 2. 5.]\n",
      " [3. 2. 1. 5. 7. 4. 9. 6. 8.]]\n",
      "[Current Fitness Value]:\n",
      " 5\n",
      "[Number of Steps Used]:\n",
      " 20000\n"
     ]
    },
    {
     "ename": "KeyboardInterrupt",
     "evalue": "",
     "output_type": "error",
     "traceback": [
      "\u001b[0;31m---------------------------------------------------------------------------\u001b[0m",
      "\u001b[0;31mKeyboardInterrupt\u001b[0m                         Traceback (most recent call last)",
      "\u001b[1;32m/Users/sixingyu/Library/CloudStorage/OneDrive-IowaStateUniversity/code/sudoku/main.ipynb Cell 2\u001b[0m in \u001b[0;36m<cell line: 2>\u001b[0;34m()\u001b[0m\n\u001b[1;32m      <a href='vscode-notebook-cell:/Users/sixingyu/Library/CloudStorage/OneDrive-IowaStateUniversity/code/sudoku/main.ipynb#W1sZmlsZQ%3D%3D?line=0'>1</a>\u001b[0m game \u001b[39m=\u001b[39m sudoku(\u001b[39m'\u001b[39m\u001b[39msudoku-inputs/easy-input.txt\u001b[39m\u001b[39m'\u001b[39m)\n\u001b[0;32m----> <a href='vscode-notebook-cell:/Users/sixingyu/Library/CloudStorage/OneDrive-IowaStateUniversity/code/sudoku/main.ipynb#W1sZmlsZQ%3D%3D?line=1'>2</a>\u001b[0m game\u001b[39m.\u001b[39;49mhill_Climbing()\n\u001b[1;32m      <a href='vscode-notebook-cell:/Users/sixingyu/Library/CloudStorage/OneDrive-IowaStateUniversity/code/sudoku/main.ipynb#W1sZmlsZQ%3D%3D?line=2'>3</a>\u001b[0m game\u001b[39m.\u001b[39mshow_board()\n",
      "File \u001b[0;32m~/Library/CloudStorage/OneDrive-IowaStateUniversity/code/sudoku/src/game_board.py:56\u001b[0m, in \u001b[0;36msudoku.hill_Climbing\u001b[0;34m(self, max_step)\u001b[0m\n\u001b[1;32m     53\u001b[0m \u001b[39mself\u001b[39m\u001b[39m.\u001b[39mshow_board()\n\u001b[1;32m     54\u001b[0m \u001b[39mwhile\u001b[39;00m \u001b[39mself\u001b[39m\u001b[39m.\u001b[39mcurrent_fitness \u001b[39m>\u001b[39m \u001b[39m0\u001b[39m:\n\u001b[0;32m---> 56\u001b[0m     random_row, random_cols \u001b[39m=\u001b[39m \u001b[39mself\u001b[39;49m\u001b[39m.\u001b[39;49mget_random_pair()\n\u001b[1;32m     57\u001b[0m     new_states \u001b[39m=\u001b[39m copy\u001b[39m.\u001b[39mdeepcopy(\u001b[39mself\u001b[39m\u001b[39m.\u001b[39mboard)\n\u001b[1;32m     59\u001b[0m     new_states[random_row,random_cols[\u001b[39m0\u001b[39m]], new_states[random_row,random_cols[\u001b[39m1\u001b[39m]] \u001b[39m=\u001b[39m \\\n\u001b[1;32m     60\u001b[0m          \u001b[39mself\u001b[39m\u001b[39m.\u001b[39mboard[random_row,random_cols[\u001b[39m1\u001b[39m]],\u001b[39mself\u001b[39m\u001b[39m.\u001b[39mboard[random_row,random_cols[\u001b[39m0\u001b[39m]]\n",
      "File \u001b[0;32m~/Library/CloudStorage/OneDrive-IowaStateUniversity/code/sudoku/src/game_board.py:46\u001b[0m, in \u001b[0;36msudoku.get_random_pair\u001b[0;34m(self, range, size)\u001b[0m\n\u001b[1;32m     44\u001b[0m cols \u001b[39m=\u001b[39m []\n\u001b[1;32m     45\u001b[0m \u001b[39mwhile\u001b[39;00m \u001b[39mlen\u001b[39m(cols) \u001b[39m<\u001b[39m size:\n\u001b[0;32m---> 46\u001b[0m     r\u001b[39m=\u001b[39mnp\u001b[39m.\u001b[39;49mrandom\u001b[39m.\u001b[39;49mrandint(\u001b[39mrange\u001b[39;49m[\u001b[39m0\u001b[39;49m],\u001b[39mrange\u001b[39;49m[\u001b[39m1\u001b[39;49m])\n\u001b[1;32m     47\u001b[0m     \u001b[39mif\u001b[39;00m r \u001b[39mnot\u001b[39;00m \u001b[39min\u001b[39;00m cols \u001b[39mand\u001b[39;00m \u001b[39mself\u001b[39m\u001b[39m.\u001b[39minit_board[row,r] \u001b[39m==\u001b[39m \u001b[39m0\u001b[39m:\n\u001b[1;32m     48\u001b[0m         cols\u001b[39m.\u001b[39mappend(r)\n",
      "\u001b[0;31mKeyboardInterrupt\u001b[0m: "
     ]
    }
   ],
   "source": [
    "# game = sudoku('sudoku-inputs/easy-input.txt')\n",
    "game = sudoku('sudoku-inputs/plane.txt')\n",
    "game.hill_Climbing()\n",
    "game.show_board()"
   ]
  },
  {
   "cell_type": "code",
   "execution_count": null,
   "metadata": {},
   "outputs": [],
   "source": []
  },
  {
   "cell_type": "code",
   "execution_count": null,
   "metadata": {},
   "outputs": [],
   "source": []
  }
 ],
 "metadata": {
  "kernelspec": {
   "display_name": "swapp",
   "language": "python",
   "name": "python3"
  },
  "language_info": {
   "codemirror_mode": {
    "name": "ipython",
    "version": 3
   },
   "file_extension": ".py",
   "mimetype": "text/x-python",
   "name": "python",
   "nbconvert_exporter": "python",
   "pygments_lexer": "ipython3",
   "version": "3.8.13"
  },
  "orig_nbformat": 4,
  "vscode": {
   "interpreter": {
    "hash": "542800d69ff008798e2f9b6133330167d341cd9cf786e28e5f69d8ad299cc56b"
   }
  }
 },
 "nbformat": 4,
 "nbformat_minor": 2
}
