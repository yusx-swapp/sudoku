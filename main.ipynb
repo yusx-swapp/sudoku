{
 "cells": [
  {
   "cell_type": "code",
   "execution_count": 1,
   "metadata": {},
   "outputs": [],
   "source": [
    "from src import sudoku"
   ]
  },
  {
   "cell_type": "code",
   "execution_count": 2,
   "metadata": {},
   "outputs": [
    {
     "name": "stdout",
     "output_type": "stream",
     "text": [
      "[Initial States]:\n",
      " [[0. 0. 0. 0. 0. 0. 0. 0. 0.]\n",
      " [0. 0. 0. 0. 0. 0. 0. 0. 0.]\n",
      " [0. 0. 0. 0. 0. 0. 0. 0. 0.]\n",
      " [0. 0. 0. 0. 0. 0. 0. 0. 0.]\n",
      " [0. 0. 0. 0. 0. 0. 0. 0. 0.]\n",
      " [0. 0. 0. 0. 0. 0. 0. 0. 0.]\n",
      " [0. 0. 0. 0. 0. 0. 0. 0. 0.]\n",
      " [0. 0. 0. 0. 0. 0. 0. 0. 0.]\n",
      " [0. 0. 0. 0. 0. 0. 0. 0. 0.]]\n",
      "[Current Game Board]:\n",
      " [[9. 5. 2. 8. 6. 7. 3. 1. 4.]\n",
      " [9. 7. 1. 2. 5. 8. 3. 4. 6.]\n",
      " [9. 7. 6. 3. 8. 1. 5. 4. 2.]\n",
      " [4. 2. 8. 1. 7. 5. 6. 3. 9.]\n",
      " [8. 6. 4. 3. 5. 9. 7. 1. 2.]\n",
      " [3. 8. 1. 2. 7. 6. 9. 4. 5.]\n",
      " [5. 3. 7. 8. 2. 1. 4. 9. 6.]\n",
      " [8. 6. 4. 3. 5. 2. 7. 9. 1.]\n",
      " [9. 1. 4. 7. 6. 2. 3. 5. 8.]]\n",
      "[Current Fitness Value]:\n",
      " 46\n",
      "[Number of Steps Used]:\n",
      " 0\n",
      "[Initial States]:\n",
      " [[0. 0. 0. 0. 0. 0. 0. 0. 0.]\n",
      " [0. 0. 0. 0. 0. 0. 0. 0. 0.]\n",
      " [0. 0. 0. 0. 0. 0. 0. 0. 0.]\n",
      " [0. 0. 0. 0. 0. 0. 0. 0. 0.]\n",
      " [0. 0. 0. 0. 0. 0. 0. 0. 0.]\n",
      " [0. 0. 0. 0. 0. 0. 0. 0. 0.]\n",
      " [0. 0. 0. 0. 0. 0. 0. 0. 0.]\n",
      " [0. 0. 0. 0. 0. 0. 0. 0. 0.]\n",
      " [0. 0. 0. 0. 0. 0. 0. 0. 0.]]\n",
      "[Current Game Board]:\n",
      " [[2. 9. 5. 6. 4. 7. 3. 8. 1.]\n",
      " [4. 1. 3. 9. 5. 8. 6. 2. 7.]\n",
      " [6. 7. 8. 1. 3. 2. 5. 4. 9.]\n",
      " [9. 2. 4. 7. 8. 5. 1. 6. 3.]\n",
      " [3. 5. 6. 4. 9. 1. 8. 7. 2.]\n",
      " [7. 8. 1. 2. 6. 3. 4. 9. 5.]\n",
      " [5. 3. 7. 8. 2. 4. 9. 1. 6.]\n",
      " [8. 6. 2. 5. 1. 9. 7. 3. 4.]\n",
      " [1. 4. 9. 3. 7. 6. 2. 5. 8.]]\n",
      "[Current Fitness Value]:\n",
      " 0\n",
      "[Number of Steps Used]:\n",
      " 53\n"
     ]
    }
   ],
   "source": [
    "game = sudoku('sudoku-inputs/input.blank.txt')\n",
    "game.hill_Climbing()\n",
    "game.show_board()"
   ]
  },
  {
   "cell_type": "code",
   "execution_count": null,
   "metadata": {},
   "outputs": [],
   "source": []
  }
 ],
 "metadata": {
  "kernelspec": {
   "display_name": "lable",
   "language": "python",
   "name": "python3"
  },
  "language_info": {
   "codemirror_mode": {
    "name": "ipython",
    "version": 3
   },
   "file_extension": ".py",
   "mimetype": "text/x-python",
   "name": "python",
   "nbconvert_exporter": "python",
   "pygments_lexer": "ipython3",
   "version": "3.10.9"
  },
  "orig_nbformat": 4,
  "vscode": {
   "interpreter": {
    "hash": "a107183e16c649e79c4e0f791900dec3234cf283f997d54e7f10f7774f598f57"
   }
  }
 },
 "nbformat": 4,
 "nbformat_minor": 2
}
