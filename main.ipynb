{
 "cells": [
  {
   "cell_type": "code",
   "execution_count": 1,
   "metadata": {},
   "outputs": [],
   "source": [
    "from src import sudoku"
   ]
  },
  {
   "cell_type": "code",
   "execution_count": 2,
   "metadata": {},
   "outputs": [
    {
     "name": "stdout",
     "output_type": "stream",
     "text": [
      "[Initial States]:\n",
      " [[7. 0. 0. 0. 0. 9. 0. 0. 6.]\n",
      " [0. 1. 0. 0. 0. 5. 3. 7. 0.]\n",
      " [0. 0. 4. 7. 6. 0. 0. 0. 0.]\n",
      " [0. 0. 6. 0. 0. 8. 0. 3. 0.]\n",
      " [0. 0. 2. 0. 4. 0. 6. 0. 0.]\n",
      " [0. 3. 0. 2. 0. 0. 1. 0. 0.]\n",
      " [0. 0. 0. 0. 8. 2. 7. 0. 0.]\n",
      " [0. 6. 7. 1. 0. 0. 0. 2. 0.]\n",
      " [3. 0. 0. 5. 0. 0. 0. 0. 8.]]\n",
      "[Current Game Board]:\n",
      " [[7. 5. 4. 1. 3. 9. 8. 2. 6.]\n",
      " [2. 1. 9. 4. 6. 5. 3. 7. 8.]\n",
      " [3. 8. 4. 7. 6. 9. 2. 5. 1.]\n",
      " [4. 7. 6. 2. 9. 8. 1. 3. 5.]\n",
      " [8. 3. 2. 5. 4. 7. 6. 1. 9.]\n",
      " [9. 3. 5. 2. 7. 6. 1. 8. 4.]\n",
      " [1. 9. 3. 6. 8. 2. 7. 5. 4.]\n",
      " [4. 6. 7. 1. 5. 3. 9. 2. 8.]\n",
      " [3. 4. 9. 5. 6. 1. 2. 7. 8.]]\n",
      "[Current Fitness Value]:\n",
      " 38\n",
      "[Number of Steps Used]:\n",
      " 0\n",
      "[Initial States]:\n",
      " [[7. 0. 0. 0. 0. 9. 0. 0. 6.]\n",
      " [0. 1. 0. 0. 0. 5. 3. 7. 0.]\n",
      " [0. 0. 4. 7. 6. 0. 0. 0. 0.]\n",
      " [0. 0. 6. 0. 0. 8. 0. 3. 0.]\n",
      " [0. 0. 2. 0. 4. 0. 6. 0. 0.]\n",
      " [0. 3. 0. 2. 0. 0. 1. 0. 0.]\n",
      " [0. 0. 0. 0. 8. 2. 7. 0. 0.]\n",
      " [0. 6. 7. 1. 0. 0. 0. 2. 0.]\n",
      " [3. 0. 0. 5. 0. 0. 0. 0. 8.]]\n",
      "[Current Game Board]:\n",
      " [[7. 2. 3. 8. 1. 9. 5. 4. 6.]\n",
      " [6. 1. 8. 4. 9. 5. 3. 7. 2.]\n",
      " [2. 5. 4. 7. 6. 3. 8. 9. 1.]\n",
      " [1. 7. 6. 9. 5. 8. 2. 3. 4.]\n",
      " [9. 8. 2. 3. 4. 1. 6. 5. 7.]\n",
      " [4. 3. 5. 2. 6. 7. 1. 8. 9.]\n",
      " [5. 4. 9. 6. 8. 2. 7. 1. 3.]\n",
      " [8. 6. 7. 1. 3. 9. 4. 2. 5.]\n",
      " [3. 2. 1. 5. 7. 4. 9. 6. 8.]]\n",
      "[Current Fitness Value]:\n",
      " 5\n",
      "[Number of Steps Used]:\n",
      " 10000\n"
     ]
    }
   ],
   "source": [
    "# game = sudoku('sudoku-inputs/easy-input.txt')\n",
    "game = sudoku('sudoku-inputs/plane.txt')\n",
    "game.hill_Climbing()\n",
    "game.show_board()"
   ]
  },
  {
   "cell_type": "code",
   "execution_count": null,
   "metadata": {},
   "outputs": [],
   "source": []
  },
  {
   "cell_type": "code",
   "execution_count": null,
   "metadata": {},
   "outputs": [],
   "source": []
  }
 ],
 "metadata": {
  "kernelspec": {
   "display_name": "swapp",
   "language": "python",
   "name": "python3"
  },
  "language_info": {
   "codemirror_mode": {
    "name": "ipython",
    "version": 3
   },
   "file_extension": ".py",
   "mimetype": "text/x-python",
   "name": "python",
   "nbconvert_exporter": "python",
   "pygments_lexer": "ipython3",
   "version": "3.8.13"
  },
  "orig_nbformat": 4,
  "vscode": {
   "interpreter": {
    "hash": "542800d69ff008798e2f9b6133330167d341cd9cf786e28e5f69d8ad299cc56b"
   }
  }
 },
 "nbformat": 4,
 "nbformat_minor": 2
}
